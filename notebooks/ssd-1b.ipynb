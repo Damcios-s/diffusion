{
 "cells": [
  {
   "cell_type": "code",
   "execution_count": 1,
   "id": "85f2baf6",
   "metadata": {},
   "outputs": [
    {
     "name": "stdout",
     "output_type": "stream",
     "text": [
      "2.7.1+cu118\n",
      "11.8\n",
      "True\n"
     ]
    },
    {
     "data": {
      "application/vnd.jupyter.widget-view+json": {
       "model_id": "433acbefe496476aa8ee21474746b0c6",
       "version_major": 2,
       "version_minor": 0
      },
      "text/plain": [
       "Loading pipeline components...:   0%|          | 0/7 [00:00<?, ?it/s]"
      ]
     },
     "metadata": {},
     "output_type": "display_data"
    },
    {
     "name": "stderr",
     "output_type": "stream",
     "text": [
      "`torch_dtype` is deprecated! Use `dtype` instead!\n"
     ]
    }
   ],
   "source": [
    "from diffusers import StableDiffusionXLPipeline\n",
    "import torch\n",
    "print(torch.__version__)\n",
    "print(torch.version.cuda)\n",
    "print(torch.cuda.is_available())\n",
    "\n",
    "from torch.quantization import quantize_dynamic\n",
    "\n",
    "pipe = StableDiffusionXLPipeline.from_pretrained(\"segmind/SSD-1B\", torch_dtype=torch.float16, use_safetensors=True, variant=\"fp16\")\n",
    "\n",
    "# unet_int8 = quantize_dynamic(pipe.unet, {torch.nn.Linear}, dtype=torch.qint8)\n",
    "# pipe.unet = unet_int8\n",
    "\n",
    "pipe.to(\"cuda\")\n",
    "pipe.enable_model_cpu_offload()\n",
    "\n",
    "# if using torch < 2.0\n",
    "# pipe.enable_xformers_memory_efficient_attention()\n",
    "# prompt = \"Astronaut\" # Your prompt here\n",
    "neg_prompt = \"ugly, blurry, poor quality\" # Negative prompt here\n",
    "# image = pipe(prompt=prompt, negative_prompt=neg_prompt, width=512, height=512).images[0]"
   ]
  },
  {
   "cell_type": "code",
   "execution_count": 2,
   "id": "6785d905",
   "metadata": {},
   "outputs": [
    {
     "data": {
      "application/vnd.jupyter.widget-view+json": {
       "model_id": "145d07eb8e9c4512b1c870b2f22a661f",
       "version_major": 2,
       "version_minor": 0
      },
      "text/plain": [
       "  0%|          | 0/50 [00:00<?, ?it/s]"
      ]
     },
     "metadata": {},
     "output_type": "display_data"
    }
   ],
   "source": [
    "prompt = \"Astronaut\" # Your prompt here\n",
    "image = pipe(prompt=prompt, negative_prompt=neg_prompt, width=256, height=256).images[0]\n",
    "image.show()"
   ]
  }
 ],
 "metadata": {
  "kernelspec": {
   "display_name": "diffusion",
   "language": "python",
   "name": "python3"
  },
  "language_info": {
   "codemirror_mode": {
    "name": "ipython",
    "version": 3
   },
   "file_extension": ".py",
   "mimetype": "text/x-python",
   "name": "python",
   "nbconvert_exporter": "python",
   "pygments_lexer": "ipython3",
   "version": "3.13.5"
  }
 },
 "nbformat": 4,
 "nbformat_minor": 5
}
