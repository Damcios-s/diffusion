{
 "cells": [
  {
   "cell_type": "code",
   "execution_count": 1,
   "id": "b7d27d06",
   "metadata": {},
   "outputs": [],
   "source": [
    "import torch\n",
    "from torch import nn, optim\n",
    "import torch.nn.functional as F\n",
    "from torch.utils.data import DataLoader\n",
    "from torchvision import datasets, transforms\n",
    "from tqdm import tqdm\n",
    "import numpy as np"
   ]
  },
  {
   "cell_type": "code",
   "execution_count": 2,
   "id": "9abf6af8",
   "metadata": {},
   "outputs": [],
   "source": [
    "# Simple UNet for small images (28x28)\n",
    "class SmallUNet(nn.Module):\n",
    "  def __init__(self, in_channels=2, out_channels=1, base_channels=16):  # Changed to 2 input channels\n",
    "    super().__init__()\n",
    "    self.enc1 = nn.Sequential(nn.Conv2d(in_channels, base_channels, 3, padding=1), nn.ReLU())\n",
    "    self.enc2 = nn.Sequential(nn.Conv2d(base_channels, base_channels*2, 3, padding=1), nn.ReLU())\n",
    "    self.enc3 = nn.Sequential(nn.Conv2d(base_channels*2, base_channels*2, 3, padding=1), nn.ReLU())\n",
    "\n",
    "    self.dec3 = nn.Sequential(nn.Conv2d(base_channels*2, base_channels*2, 3, padding=1), nn.ReLU())\n",
    "    self.dec2 = nn.Sequential(nn.Conv2d(base_channels*2, base_channels, 3, padding=1), nn.ReLU())\n",
    "    self.dec1 = nn.Sequential(nn.Conv2d(base_channels, out_channels, 3, padding=1), nn.ReLU())\n",
    "\n",
    "    self.pool = nn.MaxPool2d(2)\n",
    "    self.up = nn.Upsample(scale_factor=2, mode='nearest')\n",
    "    \n",
    "    # timestep embedding\n",
    "    self.time_mlp = nn.Sequential(\n",
    "        nn.Linear(1, base_channels*2),\n",
    "        nn.ReLU(),\n",
    "        nn.Linear(base_channels*2, base_channels*2)\n",
    "    )\n",
    "\n",
    "  def forward(self, x, t):\n",
    "    # t: [B] timesteps, scale to embedding\n",
    "    t = t[:, None].float() / 1000  # simple scaling\n",
    "    t_emb = self.time_mlp(t)[:, :, None, None]  # [B, hidden*2,1,1]\n",
    "    \n",
    "    # Encoder\n",
    "    e1 = F.relu(self.enc1(x))\n",
    "    e2 = F.relu(self.enc2(self.pool(e1)))\n",
    "    e3 = F.relu(self.enc3(self.pool(e2)) + t_emb)\n",
    "    \n",
    "    # Decoder\n",
    "    d3 = F.relu(self.dec3(self.up(e3)))\n",
    "    d2 = F.relu(self.dec2(self.up(d3 + e2)))\n",
    "    out = self.dec1(d2 + e1)\n",
    "    return out"
   ]
  },
  {
   "cell_type": "code",
   "execution_count": 3,
   "id": "83fe2793",
   "metadata": {},
   "outputs": [],
   "source": [
    "# Prompt embedding: map digit to string or word\n",
    "digit_to_string = {i: str(i) for i in range(10)}\n",
    "digit_to_word = {0: \"zero\", 1: \"one\", 2: \"two\", 3: \"three\", 4: \"four\", 5: \"five\", 6: \"six\", 7: \"seven\", 8: \"eight\", 9: \"nine\"}\n",
    "\n",
    "# Simple prompt encoder (embedding layer)\n",
    "class PromptEncoder(nn.Module):\n",
    "  def __init__(self, vocab, emb_dim=8):\n",
    "    super().__init__()\n",
    "    self.vocab = vocab\n",
    "    self.emb = nn.Embedding(len(vocab), emb_dim)\n",
    "\n",
    "  def forward(self, labels):\n",
    "    # labels is a list of strings (e.g., [\"zero\", \"one\", \"two\"])\n",
    "    idxs = torch.tensor([self.vocab[label] for label in labels])\n",
    "    idxs = idxs.to(next(self.parameters()).device)  # Move to same device as model\n",
    "    return self.emb(idxs)"
   ]
  },
  {
   "cell_type": "code",
   "execution_count": 4,
   "id": "38a03aed",
   "metadata": {},
   "outputs": [],
   "source": [
    "# Prepare MNIST\n",
    "transform = transforms.Compose([transforms.ToTensor()])\n",
    "mnist_train = datasets.MNIST(root='./data', train=True, download=True, transform=transform)\n",
    "train_loader = DataLoader(mnist_train, batch_size=64, shuffle=True)"
   ]
  },
  {
   "cell_type": "code",
   "execution_count": 5,
   "id": "3ffdfa83",
   "metadata": {},
   "outputs": [],
   "source": [
    "# Build vocab for prompt encoder\n",
    "use_words = True  # Set False to use strings \"1\", \"2\", ...\n",
    "if use_words:\n",
    "  vocab_list = [digit_to_word[i] for i in range(10)]\n",
    "else:\n",
    "  vocab_list = [digit_to_string[i] for i in range(10)]\n",
    "vocab = {v: i for i, v in enumerate(vocab_list)}"
   ]
  },
  {
   "cell_type": "code",
   "execution_count": 6,
   "id": "b8aeb8c3",
   "metadata": {},
   "outputs": [],
   "source": [
    "# -------------------------\n",
    "# 3️⃣ Diffusion utils\n",
    "# -------------------------\n",
    "T = 100  # number of diffusion steps\n",
    "beta = np.linspace(1e-4, 0.02, T)\n",
    "alpha = 1.0 - beta\n",
    "alpha_bar = np.cumprod(alpha)\n",
    "\n",
    "def q_sample(x0, t, noise=None):\n",
    "    \"\"\"Sample from q(x_t | x_0) - the forward diffusion process\"\"\"\n",
    "    if noise is None:\n",
    "        noise = torch.randn_like(x0)\n",
    "    \n",
    "    # Convert t to cpu for numpy indexing, then back to device\n",
    "    t_cpu = t.cpu()\n",
    "    a_bar = torch.tensor(alpha_bar[t_cpu], device=x0.device, dtype=x0.dtype)\n",
    "    \n",
    "    # Reshape for broadcasting\n",
    "    while len(a_bar.shape) < len(x0.shape):\n",
    "        a_bar = a_bar.unsqueeze(-1)\n",
    "    \n",
    "    return a_bar.sqrt() * x0 + (1 - a_bar).sqrt() * noise"
   ]
  },
  {
   "cell_type": "code",
   "execution_count": 7,
   "id": "26cd791a",
   "metadata": {},
   "outputs": [],
   "source": [
    "# Model, optimizer, loss\n",
    "device = torch.device(\"cuda\" if torch.cuda.is_available() else \"cpu\")\n",
    "unet = SmallUNet(in_channels=2).to(device)  # Specify 2 input channels\n",
    "prompt_encoder = PromptEncoder(vocab, emb_dim=8).to(device)\n",
    "optimizer = optim.Adam(list(unet.parameters()) + list(prompt_encoder.parameters()), lr=1e-3)\n",
    "loss_fn = nn.MSELoss()"
   ]
  },
  {
   "cell_type": "code",
   "execution_count": 13,
   "id": "dad1bb8f",
   "metadata": {},
   "outputs": [
    {
     "name": "stderr",
     "output_type": "stream",
     "text": [
      "Epoch 1: 100%|██████████| 938/938 [00:09<00:00, 100.78it/s]\n"
     ]
    },
    {
     "name": "stdout",
     "output_type": "stream",
     "text": [
      "Epoch 1 Loss: 0.5499\n"
     ]
    },
    {
     "name": "stderr",
     "output_type": "stream",
     "text": [
      "Epoch 2: 100%|██████████| 938/938 [00:09<00:00, 96.61it/s] \n"
     ]
    },
    {
     "name": "stdout",
     "output_type": "stream",
     "text": [
      "Epoch 2 Loss: 0.5386\n"
     ]
    },
    {
     "name": "stderr",
     "output_type": "stream",
     "text": [
      "Epoch 3: 100%|██████████| 938/938 [00:10<00:00, 90.41it/s]\n"
     ]
    },
    {
     "name": "stdout",
     "output_type": "stream",
     "text": [
      "Epoch 3 Loss: 0.5297\n"
     ]
    },
    {
     "name": "stderr",
     "output_type": "stream",
     "text": [
      "Epoch 4: 100%|██████████| 938/938 [00:11<00:00, 84.66it/s]\n"
     ]
    },
    {
     "name": "stdout",
     "output_type": "stream",
     "text": [
      "Epoch 4 Loss: 0.5448\n"
     ]
    },
    {
     "name": "stderr",
     "output_type": "stream",
     "text": [
      "Epoch 5: 100%|██████████| 938/938 [00:09<00:00, 96.01it/s] \n"
     ]
    },
    {
     "name": "stdout",
     "output_type": "stream",
     "text": [
      "Epoch 5 Loss: 0.5469\n"
     ]
    },
    {
     "name": "stderr",
     "output_type": "stream",
     "text": [
      "Epoch 6: 100%|██████████| 938/938 [00:09<00:00, 99.90it/s] \n"
     ]
    },
    {
     "name": "stdout",
     "output_type": "stream",
     "text": [
      "Epoch 6 Loss: 0.5415\n"
     ]
    },
    {
     "name": "stderr",
     "output_type": "stream",
     "text": [
      "Epoch 7: 100%|██████████| 938/938 [00:09<00:00, 99.97it/s] \n"
     ]
    },
    {
     "name": "stdout",
     "output_type": "stream",
     "text": [
      "Epoch 7 Loss: 0.5342\n"
     ]
    },
    {
     "name": "stderr",
     "output_type": "stream",
     "text": [
      "Epoch 8: 100%|██████████| 938/938 [00:09<00:00, 94.22it/s]\n"
     ]
    },
    {
     "name": "stdout",
     "output_type": "stream",
     "text": [
      "Epoch 8 Loss: 0.5298\n"
     ]
    },
    {
     "name": "stderr",
     "output_type": "stream",
     "text": [
      "Epoch 9: 100%|██████████| 938/938 [00:10<00:00, 90.39it/s] \n"
     ]
    },
    {
     "name": "stdout",
     "output_type": "stream",
     "text": [
      "Epoch 9 Loss: 0.5537\n"
     ]
    },
    {
     "name": "stderr",
     "output_type": "stream",
     "text": [
      "Epoch 10: 100%|██████████| 938/938 [00:09<00:00, 95.25it/s] \n"
     ]
    },
    {
     "name": "stdout",
     "output_type": "stream",
     "text": [
      "Epoch 10 Loss: 0.5351\n"
     ]
    },
    {
     "name": "stderr",
     "output_type": "stream",
     "text": [
      "Epoch 11: 100%|██████████| 938/938 [00:10<00:00, 89.21it/s] \n"
     ]
    },
    {
     "name": "stdout",
     "output_type": "stream",
     "text": [
      "Epoch 11 Loss: 0.5472\n"
     ]
    },
    {
     "name": "stderr",
     "output_type": "stream",
     "text": [
      "Epoch 12: 100%|██████████| 938/938 [00:09<00:00, 96.01it/s] \n"
     ]
    },
    {
     "name": "stdout",
     "output_type": "stream",
     "text": [
      "Epoch 12 Loss: 0.5425\n"
     ]
    },
    {
     "name": "stderr",
     "output_type": "stream",
     "text": [
      "Epoch 13: 100%|██████████| 938/938 [00:10<00:00, 93.30it/s]\n"
     ]
    },
    {
     "name": "stdout",
     "output_type": "stream",
     "text": [
      "Epoch 13 Loss: 0.5348\n"
     ]
    },
    {
     "name": "stderr",
     "output_type": "stream",
     "text": [
      "Epoch 14: 100%|██████████| 938/938 [00:09<00:00, 96.17it/s] \n"
     ]
    },
    {
     "name": "stdout",
     "output_type": "stream",
     "text": [
      "Epoch 14 Loss: 0.5213\n"
     ]
    },
    {
     "name": "stderr",
     "output_type": "stream",
     "text": [
      "Epoch 15: 100%|██████████| 938/938 [00:10<00:00, 86.40it/s] \n"
     ]
    },
    {
     "name": "stdout",
     "output_type": "stream",
     "text": [
      "Epoch 15 Loss: 0.5376\n"
     ]
    },
    {
     "name": "stderr",
     "output_type": "stream",
     "text": [
      "Epoch 16: 100%|██████████| 938/938 [00:10<00:00, 91.19it/s]\n"
     ]
    },
    {
     "name": "stdout",
     "output_type": "stream",
     "text": [
      "Epoch 16 Loss: 0.5241\n"
     ]
    },
    {
     "name": "stderr",
     "output_type": "stream",
     "text": [
      "Epoch 17: 100%|██████████| 938/938 [00:10<00:00, 92.07it/s]\n"
     ]
    },
    {
     "name": "stdout",
     "output_type": "stream",
     "text": [
      "Epoch 17 Loss: 0.5357\n"
     ]
    },
    {
     "name": "stderr",
     "output_type": "stream",
     "text": [
      "Epoch 18: 100%|██████████| 938/938 [00:10<00:00, 92.36it/s]\n"
     ]
    },
    {
     "name": "stdout",
     "output_type": "stream",
     "text": [
      "Epoch 18 Loss: 0.5293\n"
     ]
    },
    {
     "name": "stderr",
     "output_type": "stream",
     "text": [
      "Epoch 19: 100%|██████████| 938/938 [00:10<00:00, 93.22it/s] \n"
     ]
    },
    {
     "name": "stdout",
     "output_type": "stream",
     "text": [
      "Epoch 19 Loss: 0.5389\n"
     ]
    },
    {
     "name": "stderr",
     "output_type": "stream",
     "text": [
      "Epoch 20: 100%|██████████| 938/938 [00:10<00:00, 90.49it/s]\n"
     ]
    },
    {
     "name": "stdout",
     "output_type": "stream",
     "text": [
      "Epoch 20 Loss: 0.5365\n"
     ]
    },
    {
     "name": "stderr",
     "output_type": "stream",
     "text": [
      "Epoch 21:  44%|████▍     | 415/938 [00:04<00:05, 93.43it/s]\n"
     ]
    },
    {
     "ename": "KeyboardInterrupt",
     "evalue": "",
     "output_type": "error",
     "traceback": [
      "\u001b[31m---------------------------------------------------------------------------\u001b[39m",
      "\u001b[31mKeyboardInterrupt\u001b[39m                         Traceback (most recent call last)",
      "\u001b[36mCell\u001b[39m\u001b[36m \u001b[39m\u001b[32mIn[13]\u001b[39m\u001b[32m, line 4\u001b[39m\n\u001b[32m      1\u001b[39m \u001b[38;5;66;03m# Training loop - Diffusion model training\u001b[39;00m\n\u001b[32m      2\u001b[39m \u001b[38;5;66;03m# The model learns to predict the noise that was added to create noisy images\u001b[39;00m\n\u001b[32m      3\u001b[39m \u001b[38;5;28;01mfor\u001b[39;00m epoch \u001b[38;5;129;01min\u001b[39;00m \u001b[38;5;28mrange\u001b[39m(\u001b[32m100\u001b[39m):\n\u001b[32m----> \u001b[39m\u001b[32m4\u001b[39m \u001b[43m    \u001b[49m\u001b[38;5;28;43;01mfor\u001b[39;49;00m\u001b[43m \u001b[49m\u001b[43mimgs\u001b[49m\u001b[43m,\u001b[49m\u001b[43m \u001b[49m\u001b[43mlabels\u001b[49m\u001b[43m \u001b[49m\u001b[38;5;129;43;01min\u001b[39;49;00m\u001b[43m \u001b[49m\u001b[43mtqdm\u001b[49m\u001b[43m(\u001b[49m\u001b[43mtrain_loader\u001b[49m\u001b[43m,\u001b[49m\u001b[43m \u001b[49m\u001b[43mdesc\u001b[49m\u001b[43m=\u001b[49m\u001b[33;43mf\u001b[39;49m\u001b[33;43m\"\u001b[39;49m\u001b[33;43mEpoch \u001b[39;49m\u001b[38;5;132;43;01m{\u001b[39;49;00m\u001b[43mepoch\u001b[49m\u001b[43m+\u001b[49m\u001b[32;43m1\u001b[39;49m\u001b[38;5;132;43;01m}\u001b[39;49;00m\u001b[33;43m\"\u001b[39;49m\u001b[43m)\u001b[49m\u001b[43m:\u001b[49m\n\u001b[32m      5\u001b[39m \n\u001b[32m      6\u001b[39m \u001b[43m        \u001b[49m\u001b[38;5;66;43;03m# Move data to device\u001b[39;49;00m\n\u001b[32m      7\u001b[39m \u001b[43m        \u001b[49m\u001b[43mimgs\u001b[49m\u001b[43m \u001b[49m\u001b[43m=\u001b[49m\u001b[43m \u001b[49m\u001b[43mimgs\u001b[49m\u001b[43m.\u001b[49m\u001b[43mto\u001b[49m\u001b[43m(\u001b[49m\u001b[43mdevice\u001b[49m\u001b[43m)\u001b[49m\n\u001b[32m      9\u001b[39m \u001b[43m        \u001b[49m\u001b[38;5;66;43;03m# Get prompt embeddings\u001b[39;49;00m\n",
      "\u001b[36mFile \u001b[39m\u001b[32mc:\\Users\\Damia\\anaconda3\\envs\\diffusion\\Lib\\site-packages\\tqdm\\std.py:1181\u001b[39m, in \u001b[36mtqdm.__iter__\u001b[39m\u001b[34m(self)\u001b[39m\n\u001b[32m   1178\u001b[39m time = \u001b[38;5;28mself\u001b[39m._time\n\u001b[32m   1180\u001b[39m \u001b[38;5;28;01mtry\u001b[39;00m:\n\u001b[32m-> \u001b[39m\u001b[32m1181\u001b[39m \u001b[43m    \u001b[49m\u001b[38;5;28;43;01mfor\u001b[39;49;00m\u001b[43m \u001b[49m\u001b[43mobj\u001b[49m\u001b[43m \u001b[49m\u001b[38;5;129;43;01min\u001b[39;49;00m\u001b[43m \u001b[49m\u001b[43miterable\u001b[49m\u001b[43m:\u001b[49m\n\u001b[32m   1182\u001b[39m \u001b[43m        \u001b[49m\u001b[38;5;28;43;01myield\u001b[39;49;00m\u001b[43m \u001b[49m\u001b[43mobj\u001b[49m\n\u001b[32m   1183\u001b[39m \u001b[43m        \u001b[49m\u001b[38;5;66;43;03m# Update and possibly print the progressbar.\u001b[39;49;00m\n\u001b[32m   1184\u001b[39m \u001b[43m        \u001b[49m\u001b[38;5;66;43;03m# Note: does not call self.update(1) for speed optimisation.\u001b[39;49;00m\n",
      "\u001b[36mFile \u001b[39m\u001b[32mc:\\Users\\Damia\\anaconda3\\envs\\diffusion\\Lib\\site-packages\\torch\\utils\\data\\dataloader.py:733\u001b[39m, in \u001b[36m_BaseDataLoaderIter.__next__\u001b[39m\u001b[34m(self)\u001b[39m\n\u001b[32m    730\u001b[39m \u001b[38;5;28;01mif\u001b[39;00m \u001b[38;5;28mself\u001b[39m._sampler_iter \u001b[38;5;129;01mis\u001b[39;00m \u001b[38;5;28;01mNone\u001b[39;00m:\n\u001b[32m    731\u001b[39m     \u001b[38;5;66;03m# TODO(https://github.com/pytorch/pytorch/issues/76750)\u001b[39;00m\n\u001b[32m    732\u001b[39m     \u001b[38;5;28mself\u001b[39m._reset()  \u001b[38;5;66;03m# type: ignore[call-arg]\u001b[39;00m\n\u001b[32m--> \u001b[39m\u001b[32m733\u001b[39m data = \u001b[38;5;28;43mself\u001b[39;49m\u001b[43m.\u001b[49m\u001b[43m_next_data\u001b[49m\u001b[43m(\u001b[49m\u001b[43m)\u001b[49m\n\u001b[32m    734\u001b[39m \u001b[38;5;28mself\u001b[39m._num_yielded += \u001b[32m1\u001b[39m\n\u001b[32m    735\u001b[39m \u001b[38;5;28;01mif\u001b[39;00m (\n\u001b[32m    736\u001b[39m     \u001b[38;5;28mself\u001b[39m._dataset_kind == _DatasetKind.Iterable\n\u001b[32m    737\u001b[39m     \u001b[38;5;129;01mand\u001b[39;00m \u001b[38;5;28mself\u001b[39m._IterableDataset_len_called \u001b[38;5;129;01mis\u001b[39;00m \u001b[38;5;129;01mnot\u001b[39;00m \u001b[38;5;28;01mNone\u001b[39;00m\n\u001b[32m    738\u001b[39m     \u001b[38;5;129;01mand\u001b[39;00m \u001b[38;5;28mself\u001b[39m._num_yielded > \u001b[38;5;28mself\u001b[39m._IterableDataset_len_called\n\u001b[32m    739\u001b[39m ):\n",
      "\u001b[36mFile \u001b[39m\u001b[32mc:\\Users\\Damia\\anaconda3\\envs\\diffusion\\Lib\\site-packages\\torch\\utils\\data\\dataloader.py:789\u001b[39m, in \u001b[36m_SingleProcessDataLoaderIter._next_data\u001b[39m\u001b[34m(self)\u001b[39m\n\u001b[32m    787\u001b[39m \u001b[38;5;28;01mdef\u001b[39;00m\u001b[38;5;250m \u001b[39m\u001b[34m_next_data\u001b[39m(\u001b[38;5;28mself\u001b[39m):\n\u001b[32m    788\u001b[39m     index = \u001b[38;5;28mself\u001b[39m._next_index()  \u001b[38;5;66;03m# may raise StopIteration\u001b[39;00m\n\u001b[32m--> \u001b[39m\u001b[32m789\u001b[39m     data = \u001b[38;5;28;43mself\u001b[39;49m\u001b[43m.\u001b[49m\u001b[43m_dataset_fetcher\u001b[49m\u001b[43m.\u001b[49m\u001b[43mfetch\u001b[49m\u001b[43m(\u001b[49m\u001b[43mindex\u001b[49m\u001b[43m)\u001b[49m  \u001b[38;5;66;03m# may raise StopIteration\u001b[39;00m\n\u001b[32m    790\u001b[39m     \u001b[38;5;28;01mif\u001b[39;00m \u001b[38;5;28mself\u001b[39m._pin_memory:\n\u001b[32m    791\u001b[39m         data = _utils.pin_memory.pin_memory(data, \u001b[38;5;28mself\u001b[39m._pin_memory_device)\n",
      "\u001b[36mFile \u001b[39m\u001b[32mc:\\Users\\Damia\\anaconda3\\envs\\diffusion\\Lib\\site-packages\\torch\\utils\\data\\_utils\\fetch.py:52\u001b[39m, in \u001b[36m_MapDatasetFetcher.fetch\u001b[39m\u001b[34m(self, possibly_batched_index)\u001b[39m\n\u001b[32m     50\u001b[39m         data = \u001b[38;5;28mself\u001b[39m.dataset.__getitems__(possibly_batched_index)\n\u001b[32m     51\u001b[39m     \u001b[38;5;28;01melse\u001b[39;00m:\n\u001b[32m---> \u001b[39m\u001b[32m52\u001b[39m         data = [\u001b[38;5;28;43mself\u001b[39;49m\u001b[43m.\u001b[49m\u001b[43mdataset\u001b[49m\u001b[43m[\u001b[49m\u001b[43midx\u001b[49m\u001b[43m]\u001b[49m \u001b[38;5;28;01mfor\u001b[39;00m idx \u001b[38;5;129;01min\u001b[39;00m possibly_batched_index]\n\u001b[32m     53\u001b[39m \u001b[38;5;28;01melse\u001b[39;00m:\n\u001b[32m     54\u001b[39m     data = \u001b[38;5;28mself\u001b[39m.dataset[possibly_batched_index]\n",
      "\u001b[36mFile \u001b[39m\u001b[32mc:\\Users\\Damia\\anaconda3\\envs\\diffusion\\Lib\\site-packages\\torchvision\\datasets\\mnist.py:146\u001b[39m, in \u001b[36mMNIST.__getitem__\u001b[39m\u001b[34m(self, index)\u001b[39m\n\u001b[32m    143\u001b[39m img = Image.fromarray(img.numpy(), mode=\u001b[33m\"\u001b[39m\u001b[33mL\u001b[39m\u001b[33m\"\u001b[39m)\n\u001b[32m    145\u001b[39m \u001b[38;5;28;01mif\u001b[39;00m \u001b[38;5;28mself\u001b[39m.transform \u001b[38;5;129;01mis\u001b[39;00m \u001b[38;5;129;01mnot\u001b[39;00m \u001b[38;5;28;01mNone\u001b[39;00m:\n\u001b[32m--> \u001b[39m\u001b[32m146\u001b[39m     img = \u001b[38;5;28;43mself\u001b[39;49m\u001b[43m.\u001b[49m\u001b[43mtransform\u001b[49m\u001b[43m(\u001b[49m\u001b[43mimg\u001b[49m\u001b[43m)\u001b[49m\n\u001b[32m    148\u001b[39m \u001b[38;5;28;01mif\u001b[39;00m \u001b[38;5;28mself\u001b[39m.target_transform \u001b[38;5;129;01mis\u001b[39;00m \u001b[38;5;129;01mnot\u001b[39;00m \u001b[38;5;28;01mNone\u001b[39;00m:\n\u001b[32m    149\u001b[39m     target = \u001b[38;5;28mself\u001b[39m.target_transform(target)\n",
      "\u001b[36mFile \u001b[39m\u001b[32mc:\\Users\\Damia\\anaconda3\\envs\\diffusion\\Lib\\site-packages\\torchvision\\transforms\\transforms.py:95\u001b[39m, in \u001b[36mCompose.__call__\u001b[39m\u001b[34m(self, img)\u001b[39m\n\u001b[32m     93\u001b[39m \u001b[38;5;28;01mdef\u001b[39;00m\u001b[38;5;250m \u001b[39m\u001b[34m__call__\u001b[39m(\u001b[38;5;28mself\u001b[39m, img):\n\u001b[32m     94\u001b[39m     \u001b[38;5;28;01mfor\u001b[39;00m t \u001b[38;5;129;01min\u001b[39;00m \u001b[38;5;28mself\u001b[39m.transforms:\n\u001b[32m---> \u001b[39m\u001b[32m95\u001b[39m         img = \u001b[43mt\u001b[49m\u001b[43m(\u001b[49m\u001b[43mimg\u001b[49m\u001b[43m)\u001b[49m\n\u001b[32m     96\u001b[39m     \u001b[38;5;28;01mreturn\u001b[39;00m img\n",
      "\u001b[36mFile \u001b[39m\u001b[32mc:\\Users\\Damia\\anaconda3\\envs\\diffusion\\Lib\\site-packages\\torchvision\\transforms\\transforms.py:137\u001b[39m, in \u001b[36mToTensor.__call__\u001b[39m\u001b[34m(self, pic)\u001b[39m\n\u001b[32m    129\u001b[39m \u001b[38;5;28;01mdef\u001b[39;00m\u001b[38;5;250m \u001b[39m\u001b[34m__call__\u001b[39m(\u001b[38;5;28mself\u001b[39m, pic):\n\u001b[32m    130\u001b[39m \u001b[38;5;250m    \u001b[39m\u001b[33;03m\"\"\"\u001b[39;00m\n\u001b[32m    131\u001b[39m \u001b[33;03m    Args:\u001b[39;00m\n\u001b[32m    132\u001b[39m \u001b[33;03m        pic (PIL Image or numpy.ndarray): Image to be converted to tensor.\u001b[39;00m\n\u001b[32m   (...)\u001b[39m\u001b[32m    135\u001b[39m \u001b[33;03m        Tensor: Converted image.\u001b[39;00m\n\u001b[32m    136\u001b[39m \u001b[33;03m    \"\"\"\u001b[39;00m\n\u001b[32m--> \u001b[39m\u001b[32m137\u001b[39m     \u001b[38;5;28;01mreturn\u001b[39;00m \u001b[43mF\u001b[49m\u001b[43m.\u001b[49m\u001b[43mto_tensor\u001b[49m\u001b[43m(\u001b[49m\u001b[43mpic\u001b[49m\u001b[43m)\u001b[49m\n",
      "\u001b[36mFile \u001b[39m\u001b[32mc:\\Users\\Damia\\anaconda3\\envs\\diffusion\\Lib\\site-packages\\torchvision\\transforms\\functional.py:172\u001b[39m, in \u001b[36mto_tensor\u001b[39m\u001b[34m(pic)\u001b[39m\n\u001b[32m    170\u001b[39m \u001b[38;5;28;01mif\u001b[39;00m pic.mode == \u001b[33m\"\u001b[39m\u001b[33m1\u001b[39m\u001b[33m\"\u001b[39m:\n\u001b[32m    171\u001b[39m     img = \u001b[32m255\u001b[39m * img\n\u001b[32m--> \u001b[39m\u001b[32m172\u001b[39m img = \u001b[43mimg\u001b[49m\u001b[43m.\u001b[49m\u001b[43mview\u001b[49m\u001b[43m(\u001b[49m\u001b[43mpic\u001b[49m\u001b[43m.\u001b[49m\u001b[43msize\u001b[49m\u001b[43m[\u001b[49m\u001b[32;43m1\u001b[39;49m\u001b[43m]\u001b[49m\u001b[43m,\u001b[49m\u001b[43m \u001b[49m\u001b[43mpic\u001b[49m\u001b[43m.\u001b[49m\u001b[43msize\u001b[49m\u001b[43m[\u001b[49m\u001b[32;43m0\u001b[39;49m\u001b[43m]\u001b[49m\u001b[43m,\u001b[49m\u001b[43m \u001b[49m\u001b[43mF_pil\u001b[49m\u001b[43m.\u001b[49m\u001b[43mget_image_num_channels\u001b[49m\u001b[43m(\u001b[49m\u001b[43mpic\u001b[49m\u001b[43m)\u001b[49m\u001b[43m)\u001b[49m\n\u001b[32m    173\u001b[39m \u001b[38;5;66;03m# put it from HWC to CHW format\u001b[39;00m\n\u001b[32m    174\u001b[39m img = img.permute((\u001b[32m2\u001b[39m, \u001b[32m0\u001b[39m, \u001b[32m1\u001b[39m)).contiguous()\n",
      "\u001b[31mKeyboardInterrupt\u001b[39m: "
     ]
    }
   ],
   "source": [
    "# Training loop - Diffusion model training\n",
    "# The model learns to predict the noise that was added to create noisy images\n",
    "for epoch in range(100):\n",
    "    for imgs, labels in tqdm(train_loader, desc=f\"Epoch {epoch+1}\"):\n",
    "        \n",
    "        # Move data to device\n",
    "        imgs = imgs.to(device)\n",
    "        \n",
    "        # Get prompt embeddings\n",
    "        prompts = [digit_to_word[l.item()] if use_words else digit_to_string[l.item()] for l in labels]\n",
    "        prompt_emb = prompt_encoder(prompts)\n",
    "        \n",
    "        # Sample random timesteps for each image in the batch\n",
    "        t = torch.randint(0, T, (imgs.size(0),), device=device)\n",
    "        \n",
    "        # Sample noise to add to the images\n",
    "        noise = torch.randn_like(imgs)\n",
    "        \n",
    "        # Create noisy images at timestep t using the forward diffusion process\n",
    "        x_t = q_sample(imgs, t, noise=noise)\n",
    "        \n",
    "        # Add prompt embedding as extra channel to the noisy image\n",
    "        prompt_emb_expanded = prompt_emb.unsqueeze(-1).unsqueeze(-1).expand(-1, -1, 28, 28)\n",
    "        input_imgs = torch.cat([x_t, prompt_emb_expanded[:,0:1]], dim=1)  # [B, 2, 28, 28]\n",
    "        \n",
    "        # Forward pass: model predicts the noise that was added\n",
    "        predicted_noise = unet(input_imgs, t)\n",
    "        \n",
    "        # Loss: compare predicted noise with actual noise\n",
    "        loss = loss_fn(predicted_noise, noise)\n",
    "        \n",
    "        # Backward pass\n",
    "        optimizer.zero_grad()\n",
    "        loss.backward()\n",
    "        optimizer.step()\n",
    "        \n",
    "    print(f\"Epoch {epoch+1} Loss: {loss.item():.4f}\")"
   ]
  },
  {
   "cell_type": "code",
   "execution_count": 12,
   "id": "e3547b71",
   "metadata": {},
   "outputs": [
    {
     "name": "stdout",
     "output_type": "stream",
     "text": [
      "Ready to generate images. Run training first, then uncomment the generation code below.\n"
     ]
    },
    {
     "data": {
      "image/png": "[encoded data removed]",
      "text/plain": [
       "<Figure size 1500x600 with 10 Axes>"
      ]
     },
     "metadata": {},
     "output_type": "display_data"
    }
   ],
   "source": [
    "# Generate new image from text prompt - DDPM sampling\n",
    "import matplotlib.pyplot as plt\n",
    "\n",
    "def generate_image_ddpm(prompt_text, model, prompt_encoder, device, num_steps=50):\n",
    "    \"\"\"Generate image using DDPM reverse process\"\"\"\n",
    "    model.eval()\n",
    "    with torch.no_grad():\n",
    "        # Start with pure noise\n",
    "        img = torch.randn(1, 1, 28, 28).to(device)\n",
    "        \n",
    "        # Get prompt embedding\n",
    "        prompt_emb = prompt_encoder([prompt_text])\n",
    "        prompt_emb_expanded = prompt_emb.unsqueeze(-1).unsqueeze(-1).expand(-1, -1, 28, 28)\n",
    "        \n",
    "        # Reverse diffusion process\n",
    "        timesteps = np.linspace(T-1, 0, num_steps).astype(int)\n",
    "        \n",
    "        for i, t_val in enumerate(timesteps):\n",
    "            t = torch.tensor([t_val], device=device).long()\n",
    "            \n",
    "            # Combine current image with prompt embedding\n",
    "            input_tensor = torch.cat([img, prompt_emb_expanded[:,0:1]], dim=1)\n",
    "            \n",
    "            # Predict noise\n",
    "            predicted_noise = model(input_tensor, t)\n",
    "            \n",
    "            # Remove predicted noise (simplified DDPM step)\n",
    "            alpha_t = alpha[t_val]\n",
    "            alpha_bar_t = alpha_bar[t_val]\n",
    "            \n",
    "            if t_val > 0:\n",
    "                # Not the final step - add some randomness\n",
    "                beta_t = beta[t_val]\n",
    "                noise = torch.randn_like(img)\n",
    "                img = (1 / np.sqrt(alpha_t)) * (img - ((1 - alpha_t) / np.sqrt(1 - alpha_bar_t)) * predicted_noise)\n",
    "                img = img + np.sqrt(beta_t) * noise\n",
    "            else:\n",
    "                # Final step - no noise\n",
    "                img = (1 / np.sqrt(alpha_t)) * (img - ((1 - alpha_t) / np.sqrt(1 - alpha_bar_t)) * predicted_noise)\n",
    "        \n",
    "        # Clamp values\n",
    "        img = torch.clamp(img, 0, 1)\n",
    "        \n",
    "        # Convert to numpy for display\n",
    "        generated_img = img.cpu().squeeze().numpy()\n",
    "        return generated_img\n",
    "\n",
    "def generate_image_simple(prompt_text, model, prompt_encoder, device):\n",
    "    \"\"\"Simple single-step generation (for comparison)\"\"\"\n",
    "    model.eval()\n",
    "    with torch.no_grad():\n",
    "        # Start with moderate noise\n",
    "        img = torch.randn(1, 1, 28, 28).to(device) * 0.5 + 0.5\n",
    "        \n",
    "        # Get prompt embedding\n",
    "        prompt_emb = prompt_encoder([prompt_text])\n",
    "        prompt_emb_expanded = prompt_emb.unsqueeze(-1).unsqueeze(-1).expand(-1, -1, 28, 28)\n",
    "        \n",
    "        # Combine with prompt embedding\n",
    "        input_tensor = torch.cat([img, prompt_emb_expanded[:,0:1]], dim=1)\n",
    "        \n",
    "        # Use a moderate timestep\n",
    "        t = torch.tensor([T//2], device=device).long()\n",
    "        \n",
    "        # Predict noise and subtract it\n",
    "        predicted_noise = model(input_tensor, t)\n",
    "        generated = img - predicted_noise * 0.3  # Scale factor for single step\n",
    "        generated = torch.clamp(generated, 0, 1)\n",
    "        \n",
    "        # Convert to numpy for display\n",
    "        generated_img = generated.cpu().squeeze().numpy()\n",
    "        return generated_img\n",
    "\n",
    "# Test generation after training (uncomment after training completes)\n",
    "# Generate and display images for different prompts\n",
    "prompts_to_test = [\"one\", \"two\", \"three\", \"four\", \"five\"]\n",
    "\n",
    "print(\"Ready to generate images. Run training first, then uncomment the generation code below.\")\n",
    "\n",
    "# Uncomment after training:\n",
    "\n",
    "fig, axes = plt.subplots(2, len(prompts_to_test), figsize=(15, 6))\n",
    "fig.suptitle('Image Generation: DDPM (top) vs Simple (bottom)')\n",
    "\n",
    "for i, prompt in enumerate(prompts_to_test):\n",
    "    # DDPM generation\n",
    "    generated_img_ddpm = generate_image_ddpm(prompt, unet, prompt_encoder, device)\n",
    "    axes[0, i].imshow(generated_img_ddpm, cmap='gray')\n",
    "    axes[0, i].set_title(f'DDPM: \"{prompt}\"')\n",
    "    axes[0, i].axis('off')\n",
    "    \n",
    "    # Simple generation\n",
    "    generated_img_simple = generate_image_simple(prompt, unet, prompt_encoder, device)\n",
    "    axes[1, i].imshow(generated_img_simple, cmap='gray')\n",
    "    axes[1, i].set_title(f'Simple: \"{prompt}\"')\n",
    "    axes[1, i].axis('off')\n",
    "\n",
    "plt.tight_layout()\n",
    "plt.show()\n"
   ]
  }
 ],
 "metadata": {
  "kernelspec": {
   "display_name": "diffusion",
   "language": "python",
   "name": "python3"
  },
  "language_info": {
   "codemirror_mode": {
    "name": "ipython",
    "version": 3
   },
   "file_extension": ".py",
   "mimetype": "text/x-python",
   "name": "python",
   "nbconvert_exporter": "python",
   "pygments_lexer": "ipython3",
   "version": "3.13.5"
  }
 },
 "nbformat": 4,
 "nbformat_minor": 5
}
